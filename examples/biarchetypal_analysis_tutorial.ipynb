{
 "cells": [
  {
   "cell_type": "markdown",
   "metadata": {},
   "source": [
    "# ArchetypAX: Biarchetypal Analysis\n",
    "\n",
    "This notebook demonstrates the application of Biarchetypal Analysis, a technique that simultaneously learns archetypes for both rows (observations) and columns (features).\n"
   ]
  },
  {
   "cell_type": "markdown",
   "metadata": {},
   "source": [
    "## 1. Importing Required Libraries\n"
   ]
  },
  {
   "cell_type": "code",
   "execution_count": null,
   "metadata": {},
   "outputs": [],
   "source": [
    "import matplotlib.pyplot as plt\n",
    "import seaborn as sns\n",
    "from sklearn.datasets import make_blobs, make_moons\n",
    "from sklearn.preprocessing import StandardScaler\n",
    "\n",
    "# Import BiarchetypalAnalysis from archetypax\n",
    "from archetypax.models.biarchetypes import BiarchetypalAnalysis"
   ]
  },
  {
   "cell_type": "markdown",
   "metadata": {},
   "source": [
    "## 2. Generating Sample Data\n"
   ]
  },
  {
   "cell_type": "code",
   "execution_count": null,
   "metadata": {},
   "outputs": [],
   "source": [
    "# Generate synthetic data (3 clusters)\n",
    "X, y = make_blobs(n_samples=300, centers=3, n_features=2, random_state=42)\n",
    "X = StandardScaler().fit_transform(X)\n",
    "\n",
    "# Visualize the data\n",
    "plt.figure(figsize=(10, 6))\n",
    "plt.scatter(X[:, 0], X[:, 1], c=y, cmap=\"viridis\", alpha=0.7)\n",
    "plt.title(\"Sample Data (3 Clusters)\")\n",
    "plt.xlabel(\"Feature 1\")\n",
    "plt.ylabel(\"Feature 2\")\n",
    "plt.colorbar(label=\"Cluster\")\n",
    "plt.grid(alpha=0.3)\n",
    "plt.show()"
   ]
  },
  {
   "cell_type": "markdown",
   "metadata": {},
   "source": [
    "## 3. Initializing and Training the Biarchetypal Analysis Model\n"
   ]
  },
  {
   "cell_type": "code",
   "execution_count": null,
   "metadata": {},
   "outputs": [],
   "source": [
    "# Initialize the Biarchetypal Analysis model\n",
    "# Number of row archetypes=3, number of column archetypes=2\n",
    "model = BiarchetypalAnalysis(\n",
    "    n_row_archetypes=3,  # Number of row (observation) archetypes\n",
    "    n_col_archetypes=2,  # Number of column (feature) archetypes\n",
    "    max_iter=1000,  # Maximum number of iterations\n",
    "    tol=1e-6,  # Convergence tolerance\n",
    "    random_seed=42,  # Random seed\n",
    "    learning_rate=0.001,  # Learning rate\n",
    "    lambda_reg=0.01,  # Regularization parameter\n",
    ")\n",
    "\n",
    "# Train the model\n",
    "model.fit(X, normalize=True)  # Normalize data during training"
   ]
  },
  {
   "cell_type": "markdown",
   "metadata": {},
   "source": [
    "## 4. Retrieving and Visualizing Row and Column Archetypes\n"
   ]
  },
  {
   "cell_type": "code",
   "execution_count": null,
   "metadata": {},
   "outputs": [],
   "source": [
    "# Retrieve row archetypes\n",
    "row_archetypes = model.get_row_archetypes()\n",
    "print(f\"Shape of row archetypes: {row_archetypes.shape}\")\n",
    "\n",
    "# Visualize row archetypes\n",
    "plt.figure(figsize=(10, 6))\n",
    "plt.scatter(X[:, 0], X[:, 1], c=\"lightgray\", alpha=0.5, label=\"Data points\")\n",
    "plt.scatter(row_archetypes[:, 0], row_archetypes[:, 1], c=\"red\", s=100, marker=\"*\", label=\"Row archetypes\")\n",
    "\n",
    "# Label each archetype\n",
    "for i, archetype in enumerate(row_archetypes):\n",
    "    plt.annotate(f\"A{i + 1}\", (archetype[0], archetype[1]), fontsize=12, xytext=(10, 10), textcoords=\"offset points\")\n",
    "\n",
    "plt.title(\"Data and Row Archetypes\")\n",
    "plt.xlabel(\"Feature 1\")\n",
    "plt.ylabel(\"Feature 2\")\n",
    "plt.legend()\n",
    "plt.grid(alpha=0.3)\n",
    "plt.show()"
   ]
  },
  {
   "cell_type": "code",
   "execution_count": null,
   "metadata": {},
   "outputs": [],
   "source": [
    "# Retrieve and visualize the biarchetypes matrix\n",
    "biarchetypes = model.get_biarchetypes()\n",
    "print(f\"Shape of biarchetypes matrix: {biarchetypes.shape}\")\n",
    "\n",
    "plt.figure(figsize=(8, 6))\n",
    "sns.heatmap(\n",
    "    biarchetypes,\n",
    "    annot=True,\n",
    "    cmap=\"viridis\",\n",
    "    fmt=\".2f\",\n",
    "    xticklabels=[f\"C{i + 1}\" for i in range(model.n_col_archetypes)],\n",
    "    yticklabels=[f\"R{i + 1}\" for i in range(model.n_row_archetypes)],\n",
    ")\n",
    "plt.title(\"Biarchetypes Matrix\")\n",
    "plt.xlabel(\"Column Archetypes\")\n",
    "plt.ylabel(\"Row Archetypes\")\n",
    "plt.tight_layout()\n",
    "plt.show()"
   ]
  },
  {
   "cell_type": "markdown",
   "metadata": {},
   "source": [
    "## 5. Data Transformation and Reconstruction\n"
   ]
  },
  {
   "cell_type": "code",
   "execution_count": null,
   "metadata": {},
   "outputs": [],
   "source": [
    "# Transform data into row and column archetype weights\n",
    "row_weights, col_weights = model.transform(X)\n",
    "print(f\"Shape of row weights: {row_weights.shape}\")\n",
    "print(f\"Shape of column weights: {col_weights.shape}\")"
   ]
  },
  {
   "cell_type": "code",
   "execution_count": null,
   "metadata": {},
   "outputs": [],
   "source": [
    "# Visualize row weights (first 10 samples)\n",
    "plt.figure(figsize=(10, 5))\n",
    "sns.heatmap(\n",
    "    row_weights[:10],\n",
    "    annot=True,\n",
    "    cmap=\"Blues\",\n",
    "    fmt=\".2f\",\n",
    "    xticklabels=[f\"A{i + 1}\" for i in range(model.n_row_archetypes)],\n",
    "    yticklabels=[f\"Sample {i + 1}\" for i in range(10)],\n",
    ")\n",
    "plt.title(\"Row Archetype Weights for First 10 Samples\")\n",
    "plt.xlabel(\"Row Archetypes\")\n",
    "plt.ylabel(\"Samples\")\n",
    "plt.tight_layout()\n",
    "plt.show()"
   ]
  },
  {
   "cell_type": "code",
   "execution_count": null,
   "metadata": {},
   "outputs": [],
   "source": [
    "# Reconstruct the data\n",
    "X_reconstructed = model.reconstruct(X)\n",
    "print(f\"Shape of reconstructed data: {X_reconstructed.shape}\")\n",
    "\n",
    "# Compare original and reconstructed data\n",
    "plt.figure(figsize=(15, 6))\n",
    "\n",
    "plt.subplot(1, 2, 1)\n",
    "plt.scatter(X[:, 0], X[:, 1], c=y, cmap=\"viridis\", alpha=0.7)\n",
    "plt.title(\"Original Data\")\n",
    "plt.xlabel(\"Feature 1\")\n",
    "plt.ylabel(\"Feature 2\")\n",
    "plt.grid(alpha=0.3)\n",
    "\n",
    "plt.subplot(1, 2, 2)\n",
    "plt.scatter(X_reconstructed[:, 0], X_reconstructed[:, 1], c=y, cmap=\"viridis\", alpha=0.7)\n",
    "plt.title(\"Reconstructed Data\")\n",
    "plt.xlabel(\"Feature 1\")\n",
    "plt.ylabel(\"Feature 2\")\n",
    "plt.grid(alpha=0.3)\n",
    "\n",
    "plt.tight_layout()\n",
    "plt.show()"
   ]
  },
  {
   "cell_type": "markdown",
   "metadata": {},
   "source": [
    "## 6. Experiment with a Different Dataset (Moon-shaped Data)\n"
   ]
  },
  {
   "cell_type": "code",
   "execution_count": null,
   "metadata": {},
   "outputs": [],
   "source": [
    "# Generate moon-shaped data\n",
    "X_moons, y_moons = make_moons(n_samples=300, noise=0.1, random_state=42)\n",
    "X_moons = StandardScaler().fit_transform(X_moons)\n",
    "\n",
    "# Visualize the data\n",
    "plt.figure(figsize=(10, 6))\n",
    "plt.scatter(X_moons[:, 0], X_moons[:, 1], c=y_moons, cmap=\"coolwarm\", alpha=0.7)\n",
    "plt.title(\"Moon-shaped Data\")\n",
    "plt.xlabel(\"Feature 1\")\n",
    "plt.ylabel(\"Feature 2\")\n",
    "plt.colorbar(label=\"Class\")\n",
    "plt.grid(alpha=0.3)\n",
    "plt.show()"
   ]
  },
  {
   "cell_type": "code",
   "execution_count": null,
   "metadata": {},
   "outputs": [],
   "source": [
    "# Initialize and train the Biarchetypal Analysis model\n",
    "model_moons = BiarchetypalAnalysis(\n",
    "    n_row_archetypes=4,  # Increased number of archetypes for complex shapes\n",
    "    n_col_archetypes=2,\n",
    "    max_iter=500,\n",
    "    random_seed=42,\n",
    ")\n",
    "\n",
    "# Train the model\n",
    "model_moons.fit(X_moons, normalize=True)"
   ]
  },
  {
   "cell_type": "code",
   "execution_count": null,
   "metadata": {},
   "outputs": [],
   "source": [
    "# Retrieve and visualize row archetypes\n",
    "row_archetypes_moons = model_moons.get_row_archetypes()\n",
    "\n",
    "plt.figure(figsize=(10, 6))\n",
    "plt.scatter(X_moons[:, 0], X_moons[:, 1], c=y_moons, cmap=\"coolwarm\", alpha=0.5)\n",
    "plt.scatter(row_archetypes_moons[:, 0], row_archetypes_moons[:, 1], c=\"red\", s=100, marker=\"*\", label=\"Row archetypes\")\n",
    "\n",
    "# Label each archetype\n",
    "for i, archetype in enumerate(row_archetypes_moons):\n",
    "    plt.annotate(f\"A{i + 1}\", (archetype[0], archetype[1]), fontsize=12, xytext=(10, 10), textcoords=\"offset points\")\n",
    "\n",
    "plt.title(\"Moon-shaped Data and Row Archetypes\")\n",
    "plt.xlabel(\"Feature 1\")\n",
    "plt.ylabel(\"Feature 2\")\n",
    "plt.legend()\n",
    "plt.grid(alpha=0.3)\n",
    "plt.show()"
   ]
  },
  {
   "cell_type": "code",
   "execution_count": null,
   "metadata": {},
   "outputs": [],
   "source": [
    "# Reconstruct the data\n",
    "X_moons_reconstructed = model_moons.reconstruct(X_moons)\n",
    "\n",
    "# Compare original and reconstructed data\n",
    "plt.figure(figsize=(15, 6))\n",
    "\n",
    "plt.subplot(1, 2, 1)\n",
    "plt.scatter(X_moons[:, 0], X_moons[:, 1], c=y_moons, cmap=\"coolwarm\", alpha=0.7)\n",
    "plt.title(\"Original Moon-shaped Data\")\n",
    "plt.xlabel(\"Feature 1\")\n",
    "plt.ylabel(\"Feature 2\")\n",
    "plt.grid(alpha=0.3)\n",
    "\n",
    "plt.subplot(1, 2, 2)\n",
    "plt.scatter(X_moons_reconstructed[:, 0], X_moons_reconstructed[:, 1], c=y_moons, cmap=\"coolwarm\", alpha=0.7)\n",
    "plt.title(\"Reconstructed Moon-shaped Data\")\n",
    "plt.xlabel(\"Feature 1\")\n",
    "plt.ylabel(\"Feature 2\")\n",
    "plt.grid(alpha=0.3)\n",
    "\n",
    "plt.tight_layout()\n",
    "plt.show()"
   ]
  },
  {
   "cell_type": "markdown",
   "metadata": {},
   "source": [
    "## 7. Application to High-Dimensional Data\n"
   ]
  },
  {
   "cell_type": "code",
   "execution_count": null,
   "metadata": {},
   "outputs": [],
   "source": [
    "# Generate high-dimensional data (10 dimensions, 5 clusters)\n",
    "X_high, y_high = make_blobs(n_samples=500, centers=5, n_features=10, random_state=42)\n",
    "X_high = StandardScaler().fit_transform(X_high)\n",
    "print(f\"Shape of high-dimensional data: {X_high.shape}\")\n",
    "\n",
    "# Initialize and train the Biarchetypal Analysis model\n",
    "model_high = BiarchetypalAnalysis(\n",
    "    n_row_archetypes=5,  # Corresponding to 5 clusters\n",
    "    n_col_archetypes=3,  # Dimensionality reduction for features\n",
    "    max_iter=500,\n",
    "    random_seed=42,\n",
    ")\n",
    "\n",
    "# Train the model\n",
    "model_high.fit(X_high, normalize=True)"
   ]
  },
  {
   "cell_type": "code",
   "execution_count": null,
   "metadata": {},
   "outputs": [],
   "source": [
    "# Retrieve and visualize the biarchetypes matrix\n",
    "biarchetypes_high = model_high.get_biarchetypes()\n",
    "print(f\"Shape of biarchetypes matrix: {biarchetypes_high.shape}\")\n",
    "\n",
    "plt.figure(figsize=(10, 8))\n",
    "sns.heatmap(\n",
    "    biarchetypes_high,\n",
    "    annot=True,\n",
    "    cmap=\"viridis\",\n",
    "    fmt=\".2f\",\n",
    "    xticklabels=[f\"C{i + 1}\" for i in range(model_high.n_col_archetypes)],\n",
    "    yticklabels=[f\"R{i + 1}\" for i in range(model_high.n_row_archetypes)],\n",
    ")\n",
    "plt.title(\"Biarchetypes Matrix for High-Dimensional Data\")\n",
    "plt.xlabel(\"Column Archetypes\")\n",
    "plt.ylabel(\"Row Archetypes\")\n",
    "plt.tight_layout()\n",
    "plt.show()"
   ]
  },
  {
   "cell_type": "code",
   "execution_count": null,
   "metadata": {},
   "outputs": [],
   "source": [
    "# Dimensionality reduction using row weights\n",
    "row_weights_high, _ = model_high.transform(X_high)\n",
    "\n",
    "# Create a scatter plot using the first two row archetype weights\n",
    "plt.figure(figsize=(10, 8))\n",
    "plt.scatter(row_weights_high[:, 0], row_weights_high[:, 1], c=y_high, cmap=\"tab10\", alpha=0.7)\n",
    "plt.title(\"Dimensionality Reduction Using Row Archetype Weights (First 2 Dimensions)\")\n",
    "plt.xlabel(\"Weight of Row Archetype 1\")\n",
    "plt.ylabel(\"Weight of Row Archetype 2\")\n",
    "plt.colorbar(label=\"Class\")\n",
    "plt.grid(alpha=0.3)\n",
    "plt.show()"
   ]
  },
  {
   "cell_type": "markdown",
   "metadata": {},
   "source": [
    "## 8. Summary and Discussion\n"
   ]
  },
  {
   "cell_type": "code",
   "execution_count": null,
   "metadata": {},
   "outputs": [],
   "source": [
    "# Summary of advantages and features of Biarchetypal Analysis\n",
    "advantages = [\n",
    "    \"Simultaneously learns archetypes for both rows and columns\",\n",
    "    \"Captures extreme patterns in data\",\n",
    "    \"Can be used for both dimensionality reduction and feature extraction\",\n",
    "    \"Highly interpretable (each data point is represented as a combination of extremes)\",\n",
    "    \"Can capture non-linear patterns (as shown in the moon-shaped data example)\",\n",
    "]\n",
    "\n",
    "print(\"Advantages of Biarchetypal Analysis:\")\n",
    "for i, adv in enumerate(advantages, 1):\n",
    "    print(f\"{i}. {adv}\")\n",
    "\n",
    "# Application examples\n",
    "applications = [\n",
    "    \"Customer segmentation (identifying extreme customer profiles)\",\n",
    "    \"Image analysis (extracting distinctive patterns)\",\n",
    "    \"Text analysis (simultaneous analysis of distinctive documents and words)\",\n",
    "    \"Financial data analysis (identifying extreme market conditions)\",\n",
    "    \"Biomedical data analysis (linking distinctive patient groups with biomarkers)\",\n",
    "]\n",
    "\n",
    "print(\"\\nApplications of Biarchetypal Analysis:\")\n",
    "for i, app in enumerate(applications, 1):\n",
    "    print(f\"{i}. {app}\")"
   ]
  }
 ],
 "metadata": {
  "kernelspec": {
   "display_name": ".venv",
   "language": "python",
   "name": "python3"
  },
  "language_info": {
   "codemirror_mode": {
    "name": "ipython",
    "version": 3
   },
   "file_extension": ".py",
   "mimetype": "text/x-python",
   "name": "python",
   "nbconvert_exporter": "python",
   "pygments_lexer": "ipython3",
   "version": "3.12.8"
  }
 },
 "nbformat": 4,
 "nbformat_minor": 4
}
